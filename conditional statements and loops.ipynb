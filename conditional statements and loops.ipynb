{
 "cells": [
  {
   "cell_type": "markdown",
   "id": "8d6d2038",
   "metadata": {},
   "source": [
    "### Conditional statements\n"
   ]
  },
  {
   "cell_type": "code",
   "execution_count": null,
   "id": "5c1ac0af",
   "metadata": {},
   "outputs": [],
   "source": [
    "#syntax\n",
    "if condition:\n",
    "    statements\n",
    "else:\n",
    "    statements"
   ]
  },
  {
   "cell_type": "code",
   "execution_count": 1,
   "id": "9f09442d",
   "metadata": {},
   "outputs": [
    {
     "name": "stdout",
     "output_type": "stream",
     "text": [
      "56\n",
      "56 positive\n"
     ]
    }
   ],
   "source": [
    "# given number is positive or negative or zero\n",
    "n=int(input())\n",
    "if n==0:\n",
    "    print(n,'zero')\n",
    "elif n>0:\n",
    "    print(n,'positive')\n",
    "else:\n",
    "    print(n,'negative')\n",
    "    "
   ]
  },
  {
   "cell_type": "code",
   "execution_count": 15,
   "id": "0c1e5136",
   "metadata": {},
   "outputs": [
    {
     "name": "stderr",
     "output_type": "stream",
     "text": [
      "<>:3: SyntaxWarning: \"is\" with a literal. Did you mean \"==\"?\n",
      "<>:3: SyntaxWarning: \"is not\" with a literal. Did you mean \"!=\"?\n",
      "<>:3: SyntaxWarning: \"is\" with a literal. Did you mean \"==\"?\n",
      "<>:3: SyntaxWarning: \"is not\" with a literal. Did you mean \"!=\"?\n"
     ]
    },
    {
     "name": "stdout",
     "output_type": "stream",
     "text": [
      "46\n",
      "valid number\n"
     ]
    },
    {
     "name": "stderr",
     "output_type": "stream",
     "text": [
      "<ipython-input-15-a2bc891c46c4>:3: SyntaxWarning: \"is\" with a literal. Did you mean \"==\"?\n",
      "  if a%2 is 0 and a%10 is not 0:\n",
      "<ipython-input-15-a2bc891c46c4>:3: SyntaxWarning: \"is not\" with a literal. Did you mean \"!=\"?\n",
      "  if a%2 is 0 and a%10 is not 0:\n"
     ]
    }
   ],
   "source": [
    "#check whether given number is divisible by 2 but not 10\n",
    "a=int(input())\n",
    "if a%2 is 0 and a%10 is not 0:\n",
    "    print(\"valid number\")\n",
    "else:\n",
    "    print(\"invalid number\")"
   ]
  },
  {
   "cell_type": "markdown",
   "id": "be5114c2",
   "metadata": {},
   "source": [
    "### Iterations (for,while)\n",
    "\n"
   ]
  },
  {
   "cell_type": "code",
   "execution_count": null,
   "id": "cfa4c62c",
   "metadata": {},
   "outputs": [],
   "source": [
    "#syntax for integers\n",
    "for variable in range(start,end,step):\n",
    "    statements"
   ]
  },
  {
   "cell_type": "code",
   "execution_count": null,
   "id": "cb6643c4",
   "metadata": {},
   "outputs": [],
   "source": [
    "#syntax for string\n",
    "for variable in \"string\":\n",
    "    statements\n",
    "    "
   ]
  },
  {
   "cell_type": "code",
   "execution_count": 5,
   "id": "e7643c3c",
   "metadata": {},
   "outputs": [
    {
     "name": "stdout",
     "output_type": "stream",
     "text": [
      "1\n",
      "3\n",
      "5\n",
      "7\n",
      "9\n"
     ]
    }
   ],
   "source": [
    "# print the values from 1 to 10\n",
    "for i in range(1,10,2):\n",
    "    print(i)"
   ]
  },
  {
   "cell_type": "code",
   "execution_count": 6,
   "id": "6f3602f4",
   "metadata": {},
   "outputs": [
    {
     "name": "stdout",
     "output_type": "stream",
     "text": [
      "1 3 5 7 9 "
     ]
    }
   ],
   "source": [
    "for i in range(1,10,2):\n",
    "    print(i,end=\" \")"
   ]
  },
  {
   "cell_type": "code",
   "execution_count": 8,
   "id": "a1c6d1d2",
   "metadata": {},
   "outputs": [
    {
     "name": "stdout",
     "output_type": "stream",
     "text": [
      "1\n",
      "10\n",
      "1\n",
      "2\n",
      "3\n",
      "4\n",
      "5\n",
      "6\n",
      "7\n",
      "8\n",
      "9\n",
      "sum is: 45\n"
     ]
    }
   ],
   "source": [
    "#print the values 1 to 10 and sum of 10 numbers\n",
    "a=int(input())\n",
    "b=int(input())\n",
    "s=0\n",
    "for i in range(a,b):\n",
    "    s+=i\n",
    "    print(i)\n",
    "print(\"sum is:\",s)\n",
    "    "
   ]
  },
  {
   "cell_type": "code",
   "execution_count": 11,
   "id": "4afdba1e",
   "metadata": {},
   "outputs": [
    {
     "name": "stdout",
     "output_type": "stream",
     "text": [
      "2 4 6 8 "
     ]
    }
   ],
   "source": [
    "# print the even numbers with in the range\n",
    "for i in range(1,10):\n",
    "    if i%2==0:\n",
    "        print(i,end=\" \")\n",
    "  "
   ]
  },
  {
   "cell_type": "code",
   "execution_count": 13,
   "id": "09f65772",
   "metadata": {},
   "outputs": [
    {
     "name": "stdout",
     "output_type": "stream",
     "text": [
      "2\n",
      "2 * 1 = 2\n",
      "2 * 2 = 4\n",
      "2 * 3 = 6\n",
      "2 * 4 = 8\n",
      "2 * 5 = 10\n",
      "2 * 6 = 12\n",
      "2 * 7 = 14\n",
      "2 * 8 = 16\n",
      "2 * 9 = 18\n",
      "2 * 10 = 20\n"
     ]
    }
   ],
   "source": [
    "# print table\n",
    "n=int(input())\n",
    "for i in range(1,11):\n",
    "    print(n,\"*\",i,\"=\",n*i)\n",
    "    "
   ]
  },
  {
   "cell_type": "code",
   "execution_count": 14,
   "id": "1e1d1a12",
   "metadata": {},
   "outputs": [
    {
     "name": "stdout",
     "output_type": "stream",
     "text": [
      "enter lower bound value1\n",
      "enter lower bound value6\n",
      "1 * 1 = 1\n",
      "1 * 2 = 2\n",
      "1 * 3 = 3\n",
      "1 * 4 = 4\n",
      "1 * 5 = 5\n",
      "1 * 6 = 6\n",
      "1 * 7 = 7\n",
      "1 * 8 = 8\n",
      "1 * 9 = 9\n",
      "1 * 10 = 10\n",
      "\n",
      "2 * 1 = 2\n",
      "2 * 2 = 4\n",
      "2 * 3 = 6\n",
      "2 * 4 = 8\n",
      "2 * 5 = 10\n",
      "2 * 6 = 12\n",
      "2 * 7 = 14\n",
      "2 * 8 = 16\n",
      "2 * 9 = 18\n",
      "2 * 10 = 20\n",
      "\n",
      "3 * 1 = 3\n",
      "3 * 2 = 6\n",
      "3 * 3 = 9\n",
      "3 * 4 = 12\n",
      "3 * 5 = 15\n",
      "3 * 6 = 18\n",
      "3 * 7 = 21\n",
      "3 * 8 = 24\n",
      "3 * 9 = 27\n",
      "3 * 10 = 30\n",
      "\n",
      "4 * 1 = 4\n",
      "4 * 2 = 8\n",
      "4 * 3 = 12\n",
      "4 * 4 = 16\n",
      "4 * 5 = 20\n",
      "4 * 6 = 24\n",
      "4 * 7 = 28\n",
      "4 * 8 = 32\n",
      "4 * 9 = 36\n",
      "4 * 10 = 40\n",
      "\n",
      "5 * 1 = 5\n",
      "5 * 2 = 10\n",
      "5 * 3 = 15\n",
      "5 * 4 = 20\n",
      "5 * 5 = 25\n",
      "5 * 6 = 30\n",
      "5 * 7 = 35\n",
      "5 * 8 = 40\n",
      "5 * 9 = 45\n",
      "5 * 10 = 50\n",
      "\n",
      "6 * 1 = 6\n",
      "6 * 2 = 12\n",
      "6 * 3 = 18\n",
      "6 * 4 = 24\n",
      "6 * 5 = 30\n",
      "6 * 6 = 36\n",
      "6 * 7 = 42\n",
      "6 * 8 = 48\n",
      "6 * 9 = 54\n",
      "6 * 10 = 60\n",
      "\n"
     ]
    }
   ],
   "source": [
    "# multiple tables\n",
    "x=int(input(\"enter lower bound value\"))\n",
    "y=int(input(\"enter lower bound value\"))\n",
    "for i in range(x,y+1):\n",
    "    for j in range(1,11):\n",
    "        print(i,\"*\",j,\"=\",i*j)\n",
    "    print()"
   ]
  },
  {
   "cell_type": "code",
   "execution_count": 17,
   "id": "f92fcc74",
   "metadata": {},
   "outputs": [
    {
     "name": "stdout",
     "output_type": "stream",
     "text": [
      "1 3 5 7 9 11 13 15 17 19 21 23 25 27 29 31 33 35 37 39 41 43 45 47 49 51 53 55 57 59 61 63 65 67 69 71 73 75 77 79 81 83 85 87 89 91 93 95 97 99 \n",
      "Total even numbers are: 50\n"
     ]
    }
   ],
   "source": [
    "# print the even numbers range in between 0 to 100 and even number count\n",
    "count=0\n",
    "for evennum in range(1,100+1,2):\n",
    "    count=count+1\n",
    "    print(evennum,end=' ')\n",
    "print(\"\\nTotal even numbers are:\",count)"
   ]
  },
  {
   "cell_type": "code",
   "execution_count": 19,
   "id": "a601b84d",
   "metadata": {},
   "outputs": [
    {
     "name": "stdout",
     "output_type": "stream",
     "text": [
      "2 4 6 8 10 12 14 16 18 20 22 24 26 28 30 32 34 36 38 40 42 44 46 48 50 52 54 56 58 60 62 64 66 68 70 72 74 76 78 80 82 84 86 88 90 92 94 96 98 100 \n",
      "Total even numbers are: 50\n"
     ]
    }
   ],
   "source": [
    "count=0\n",
    "for i in range(1,100+1):\n",
    "    if i%2==0:\n",
    "        count=count+1\n",
    "        print(i,end=' ')\n",
    "print(\"\\nTotal even numbers are:\",count)"
   ]
  },
  {
   "cell_type": "code",
   "execution_count": 24,
   "id": "8f5f1ce4",
   "metadata": {},
   "outputs": [
    {
     "name": "stdout",
     "output_type": "stream",
     "text": [
      "2000\n",
      "2020\n",
      "2000 2004 2008 2012 2016 2020 \n",
      " Total years count: 6\n"
     ]
    }
   ],
   "source": [
    "#generate the all leap years in the range of 2000 to 2020\n",
    "st=int(input())\n",
    "en=int(input())\n",
    "c=0\n",
    "for year in range(st,en+1):\n",
    "    if (year%400==0 or (year%100!=0 and year%4==0)):\n",
    "        c=c+1\n",
    "        print(year,end=\" \")\n",
    "print(\"\\n Total years count:\",c)"
   ]
  },
  {
   "cell_type": "code",
   "execution_count": 25,
   "id": "3d1db892",
   "metadata": {},
   "outputs": [
    {
     "data": {
      "text/plain": [
       "97"
      ]
     },
     "execution_count": 25,
     "metadata": {},
     "output_type": "execute_result"
    }
   ],
   "source": [
    "ord(\"a\")"
   ]
  },
  {
   "cell_type": "code",
   "execution_count": 26,
   "id": "4e253fe0",
   "metadata": {},
   "outputs": [
    {
     "name": "stdout",
     "output_type": "stream",
     "text": [
      "aba\n",
      "292\n"
     ]
    }
   ],
   "source": [
    "#i/p aba\n",
    "#o/p 292\n",
    "a=input()\n",
    "s=0\n",
    "for i in a:\n",
    "    s=s+ord(i)\n",
    "print(s)"
   ]
  },
  {
   "cell_type": "code",
   "execution_count": 27,
   "id": "57a3890d",
   "metadata": {},
   "outputs": [
    {
     "name": "stdout",
     "output_type": "stream",
     "text": [
      "10\n",
      "1 2 5 10 "
     ]
    }
   ],
   "source": [
    "#Factors 10-->1,2,5,10\n",
    "n=int(input())        #10\n",
    "for i in range(1,n+1): #i=1     i=2   i=3     i=4    i=5   i=10\n",
    "    if(n%i==0):      #10%1==0(T)   10%2==0(T)  10%3==0(F)  10%5==0(T)\n",
    "        print(i,end=\" \")"
   ]
  },
  {
   "cell_type": "code",
   "execution_count": 28,
   "id": "e48616b7",
   "metadata": {},
   "outputs": [
    {
     "name": "stdout",
     "output_type": "stream",
     "text": [
      "7\n",
      "7 is prime num\n"
     ]
    }
   ],
   "source": [
    "#Check the given num is Prime num or not\n",
    "n=int(input())     #5\n",
    "c=0\n",
    "for i in range(1,n+1):  #i=1  i=2   i=3  i=4   i=5\n",
    "    if(n%i==0):  #5%1==0(t)   5%2==0(f)    5%5==0(t)\n",
    "        c+=1       #1     2\n",
    "if(c==2):\n",
    "    print(n,\"is prime num\")\n",
    "else:\n",
    "    print(n,\"is not a prime num\")"
   ]
  },
  {
   "cell_type": "code",
   "execution_count": 29,
   "id": "2dcc5d89",
   "metadata": {},
   "outputs": [
    {
     "name": "stdout",
     "output_type": "stream",
     "text": [
      "6\n",
      "8\n",
      "Even nums are: 6 8 \n",
      "Odd nums are: 7 "
     ]
    }
   ],
   "source": [
    "#i/p:st=1\n",
    "#ep:10\n",
    "#o/p:Even nums are:2 4 6 8 10\n",
    "#    Odd nums are:1 3 5 7 9\n",
    "s=int(input())\n",
    "e=int(input())\n",
    "print(\"Even nums are:\",end=\" \")\n",
    "for i in range(s,e+1):\n",
    "    if(i%2==0):\n",
    "        print(i,end=\" \")\n",
    "print(\"\\nOdd nums are:\",end=\" \")\n",
    "for i in range(s,e+1):\n",
    "    if(i%2!=0):\n",
    "        print(i,end=\" \")"
   ]
  },
  {
   "cell_type": "code",
   "execution_count": 31,
   "id": "11b4e103",
   "metadata": {},
   "outputs": [
    {
     "name": "stdout",
     "output_type": "stream",
     "text": [
      "1\n",
      "10\n",
      "Even nums are: 1\n",
      "2\n",
      "3\n",
      "4\n",
      "5\n",
      "6\n",
      "7\n",
      "8\n",
      "9\n",
      "10\n"
     ]
    }
   ],
   "source": [
    "s=int(input())\n",
    "e=int(input())\n",
    "print(\"Even nums are:\",end=\" \")\n",
    "for i in range(s,e+1):\n",
    "    if(i%2==0):\n",
    "        print(i)\n",
    "    else:\n",
    "        print(i)"
   ]
  },
  {
   "cell_type": "markdown",
   "id": "9e123fee",
   "metadata": {},
   "source": [
    "#### While\n",
    "- it executes block or set of instructions until the condition is false\n",
    "- while we dont the range(range unknown)\n",
    "- Execution is fast compared to for.\n",
    "- User incrementation"
   ]
  },
  {
   "cell_type": "code",
   "execution_count": null,
   "id": "d28230af",
   "metadata": {},
   "outputs": [],
   "source": [
    "#while syntax:\n",
    "initization\n",
    "while condition:\n",
    "    statement\n",
    "    incre/decre"
   ]
  },
  {
   "cell_type": "code",
   "execution_count": 34,
   "id": "7bb075c7",
   "metadata": {},
   "outputs": [
    {
     "name": "stdout",
     "output_type": "stream",
     "text": [
      "Thankyou\n",
      "Thankyou\n",
      "Thankyou\n",
      "Thankyou\n"
     ]
    }
   ],
   "source": [
    "n=2\n",
    "while n<=5:\n",
    "    print(\"Thankyou\")\n",
    "    n=n+1"
   ]
  },
  {
   "cell_type": "code",
   "execution_count": 33,
   "id": "f6a128ee",
   "metadata": {},
   "outputs": [
    {
     "name": "stdout",
     "output_type": "stream",
     "text": [
      "10 9 8 7 6 5 4 3 2 1 "
     ]
    }
   ],
   "source": [
    "i=10\n",
    "while i>=1:\n",
    "    print(i,end=\" \")\n",
    "    i=i-1"
   ]
  },
  {
   "cell_type": "code",
   "execution_count": 35,
   "id": "bfdcc99b",
   "metadata": {},
   "outputs": [
    {
     "name": "stdout",
     "output_type": "stream",
     "text": [
      "78890978\n",
      "Digits count: 8\n"
     ]
    }
   ],
   "source": [
    "#i/p:7864\n",
    "#o/p:digits count:4\n",
    "n=int(input())   #7864\n",
    "c=0\n",
    "while(n!=0):     #7864!=0     786!=0      78!=0     7!=0    0!=(f)\n",
    "    #rem=n%10    #7864%10=4   786%10=6    78%10=8    7%10=7\n",
    "    c=c+1       #1             2           3         4\n",
    "    n=n//10      #7864//10=786   786//10=78   #78//10=7   7//10=0\n",
    "print(\"Digits count:\",c)"
   ]
  },
  {
   "cell_type": "code",
   "execution_count": null,
   "id": "0b61fd68",
   "metadata": {},
   "outputs": [],
   "source": [
    "10)7864(786         10)786(78\n",
    "   7860                780\n",
    " --------           --------\n",
    "      4-->rem             6-->rem"
   ]
  },
  {
   "cell_type": "code",
   "execution_count": 36,
   "id": "d5fb8db0",
   "metadata": {},
   "outputs": [
    {
     "name": "stdout",
     "output_type": "stream",
     "text": [
      "121\n",
      "Given num is palindrome\n"
     ]
    }
   ],
   "source": [
    "#palindrome  i/p:121   o/p:121\n",
    "n=int(input())   #7864\n",
    "temp=n \n",
    "rev=0\n",
    "while(n!=0):  #7864!=0   786!=0    78!=0    7!=0  0!=0(f)\n",
    "    rem=n%10 #4         6          8        7\n",
    "    rev=rev*10+rem #4  46         468     4687\n",
    "    n=n//10      #786  #78     78//10=7   7//10=0\n",
    "if(temp==rev):\n",
    "    print(\"Given num is palindrome\")\n",
    "else:\n",
    "    print(\"Given num is not a palindrome\")"
   ]
  },
  {
   "cell_type": "markdown",
   "id": "6b0f4c85",
   "metadata": {},
   "source": [
    "#### Nested for\n",
    "- for loop inside for loop(loop within loop)\n",
    "- outer loop &innerloops"
   ]
  },
  {
   "cell_type": "code",
   "execution_count": null,
   "id": "21c3cd13",
   "metadata": {},
   "outputs": [],
   "source": [
    "#syntax:\n",
    "for var in range(start,end,step):\n",
    "    for var in range(start,end,step):\n",
    "        statements"
   ]
  },
  {
   "cell_type": "code",
   "execution_count": null,
   "id": "74b3452c",
   "metadata": {},
   "outputs": [],
   "source": [
    "#matrix format\n",
    "- row & columns\n",
    "- 2dimensions:row&columns\n",
    "  1 2 3\n",
    "  5 6 7"
   ]
  },
  {
   "cell_type": "code",
   "execution_count": null,
   "id": "271162a3",
   "metadata": {},
   "outputs": [],
   "source": [
    "for row in range(1,5):  #4rows  row=1   row2   row3\n",
    "    for col in range(1,5):   #4col row=1 col=1 row=1col=2\n",
    "        print(row,end=\" \")\n",
    "    print()  #new line"
   ]
  },
  {
   "cell_type": "code",
   "execution_count": 38,
   "id": "c36179e6",
   "metadata": {},
   "outputs": [
    {
     "name": "stdout",
     "output_type": "stream",
     "text": [
      "* * * * * * * \n",
      "* * * * * * * \n",
      "* * * * * * * \n",
      "* * * * * * * \n",
      "* * * * * * * \n"
     ]
    }
   ],
   "source": [
    "for row in range(1,6):\n",
    "    for col in range(1,8):\n",
    "        print(\"*\",end=\" \")\n",
    "    print()    "
   ]
  },
  {
   "cell_type": "code",
   "execution_count": 39,
   "id": "b2957adf",
   "metadata": {},
   "outputs": [
    {
     "name": "stdout",
     "output_type": "stream",
     "text": [
      "* \n",
      "* * \n",
      "* * * \n",
      "* * * * \n",
      "* * * * * \n"
     ]
    }
   ],
   "source": [
    "for row in range(1,6):   #row=1  r=2   r=3   r=4   r=5\n",
    "    for col in range(1,row+1): #r=1 c=1   r=2c=1   r=2c=2  \n",
    "        print(\"*\",end=\" \")\n",
    "    print()"
   ]
  },
  {
   "cell_type": "code",
   "execution_count": 40,
   "id": "38a4c1a9",
   "metadata": {},
   "outputs": [
    {
     "name": "stdout",
     "output_type": "stream",
     "text": [
      "* * * * * \n",
      "* * * * \n",
      "* * * \n",
      "* * \n",
      "* \n"
     ]
    }
   ],
   "source": [
    "for row in range(5,0,-1): #r=5   r=4   r=3    r=2   r=1\n",
    "    for col in range(1,row+1): #r=5 c=1  r=5 c=2  r=5 c=3  r=5 c=2 r=5 c=1\n",
    "        print(\"*\",end=\" \")\n",
    "    print()"
   ]
  },
  {
   "cell_type": "code",
   "execution_count": 41,
   "id": "e91a9205",
   "metadata": {},
   "outputs": [
    {
     "name": "stdout",
     "output_type": "stream",
     "text": [
      "* \n",
      "* * \n",
      "* * * \n",
      "* * * * \n",
      "* * * * * \n",
      "* * * * * \n",
      "* * * * \n",
      "* * * \n",
      "* * \n",
      "* \n"
     ]
    }
   ],
   "source": [
    "for row in range(1,6):   #row=1  r=2   r=3   r=4   r=5\n",
    "    for col in range(1,row+1): #r=1 c=1   r=2c=1   r=2c=2  \n",
    "        print(\"*\",end=\" \")\n",
    "    print()\n",
    "for row in range(5,0,-1): #r=5   r=4   r=3    r=2   r=1\n",
    "    for col in range(1,row+1): #r=5 c=1  r=5 c=2  r=5 c=3  r=5 c=2 r=5 c=1\n",
    "        print(\"*\",end=\" \")\n",
    "    print()"
   ]
  },
  {
   "cell_type": "code",
   "execution_count": 42,
   "id": "d66a9d1d",
   "metadata": {},
   "outputs": [
    {
     "name": "stdout",
     "output_type": "stream",
     "text": [
      "1\n",
      "100\n",
      "2 3 5 7 11 13 17 19 23 29 31 37 41 43 47 53 59 61 67 71 73 79 83 89 97 "
     ]
    }
   ],
   "source": [
    "#Print the prime numbers within the range(1 to 100)\n",
    "st,ed=int(input()),int(input())\n",
    "for num in range(st,ed+1):  #num=1 num=2  n=3  n=4 \n",
    "    c=0\n",
    "    for val in range(1,num+1): #(1,1)   (1,2)\n",
    "        if num%val==0:   #factors\n",
    "            c+=1    #factors count\n",
    "    if c == 2:\n",
    "        print(num,end=\" \")"
   ]
  },
  {
   "cell_type": "code",
   "execution_count": null,
   "id": "d2a31652",
   "metadata": {},
   "outputs": [],
   "source": [
    "#Nested while\n",
    "- loop inside loop"
   ]
  },
  {
   "cell_type": "code",
   "execution_count": null,
   "id": "5c7a32ab",
   "metadata": {},
   "outputs": [],
   "source": [
    "#Syntax:\n",
    "inilization\n",
    "while condition:\n",
    "    statement\n",
    "    incre/decre\n",
    "    while condition:\n",
    "        statement\n",
    "        incre/decre"
   ]
  },
  {
   "cell_type": "code",
   "execution_count": 43,
   "id": "38f88619",
   "metadata": {},
   "outputs": [
    {
     "name": "stdout",
     "output_type": "stream",
     "text": [
      "1 * 1 = 1\n",
      "1 * 2 = 2\n",
      "1 * 3 = 3\n",
      "1 * 4 = 4\n",
      "1 * 5 = 5\n",
      "1 * 6 = 6\n",
      "1 * 7 = 7\n",
      "1 * 8 = 8\n",
      "1 * 9 = 9\n",
      "1 * 10 = 10\n",
      "\n",
      "2 * 1 = 2\n",
      "2 * 2 = 4\n",
      "2 * 3 = 6\n",
      "2 * 4 = 8\n",
      "2 * 5 = 10\n",
      "2 * 6 = 12\n",
      "2 * 7 = 14\n",
      "2 * 8 = 16\n",
      "2 * 9 = 18\n",
      "2 * 10 = 20\n",
      "\n",
      "3 * 1 = 3\n",
      "3 * 2 = 6\n",
      "3 * 3 = 9\n",
      "3 * 4 = 12\n",
      "3 * 5 = 15\n",
      "3 * 6 = 18\n",
      "3 * 7 = 21\n",
      "3 * 8 = 24\n",
      "3 * 9 = 27\n",
      "3 * 10 = 30\n",
      "\n",
      "4 * 1 = 4\n",
      "4 * 2 = 8\n",
      "4 * 3 = 12\n",
      "4 * 4 = 16\n",
      "4 * 5 = 20\n",
      "4 * 6 = 24\n",
      "4 * 7 = 28\n",
      "4 * 8 = 32\n",
      "4 * 9 = 36\n",
      "4 * 10 = 40\n",
      "\n",
      "5 * 1 = 5\n",
      "5 * 2 = 10\n",
      "5 * 3 = 15\n",
      "5 * 4 = 20\n",
      "5 * 5 = 25\n",
      "5 * 6 = 30\n",
      "5 * 7 = 35\n",
      "5 * 8 = 40\n",
      "5 * 9 = 45\n",
      "5 * 10 = 50\n",
      "\n",
      "6 * 1 = 6\n",
      "6 * 2 = 12\n",
      "6 * 3 = 18\n",
      "6 * 4 = 24\n",
      "6 * 5 = 30\n",
      "6 * 6 = 36\n",
      "6 * 7 = 42\n",
      "6 * 8 = 48\n",
      "6 * 9 = 54\n",
      "6 * 10 = 60\n",
      "\n",
      "7 * 1 = 7\n",
      "7 * 2 = 14\n",
      "7 * 3 = 21\n",
      "7 * 4 = 28\n",
      "7 * 5 = 35\n",
      "7 * 6 = 42\n",
      "7 * 7 = 49\n",
      "7 * 8 = 56\n",
      "7 * 9 = 63\n",
      "7 * 10 = 70\n",
      "\n",
      "8 * 1 = 8\n",
      "8 * 2 = 16\n",
      "8 * 3 = 24\n",
      "8 * 4 = 32\n",
      "8 * 5 = 40\n",
      "8 * 6 = 48\n",
      "8 * 7 = 56\n",
      "8 * 8 = 64\n",
      "8 * 9 = 72\n",
      "8 * 10 = 80\n",
      "\n",
      "9 * 1 = 9\n",
      "9 * 2 = 18\n",
      "9 * 3 = 27\n",
      "9 * 4 = 36\n",
      "9 * 5 = 45\n",
      "9 * 6 = 54\n",
      "9 * 7 = 63\n",
      "9 * 8 = 72\n",
      "9 * 9 = 81\n",
      "9 * 10 = 90\n",
      "\n",
      "10 * 1 = 10\n",
      "10 * 2 = 20\n",
      "10 * 3 = 30\n",
      "10 * 4 = 40\n",
      "10 * 5 = 50\n",
      "10 * 6 = 60\n",
      "10 * 7 = 70\n",
      "10 * 8 = 80\n",
      "10 * 9 = 90\n",
      "10 * 10 = 100\n",
      "\n"
     ]
    }
   ],
   "source": [
    "#1 to 10numbera table\n",
    "i=1\n",
    "while(i<=10):   #i=1   i=2  i=3\n",
    "    j=1\n",
    "    while(j<=10): #i=1j=1  i=1j=2   i=2 j=1   i=2j=2\n",
    "        print(i,\"*\",j,\"=\",i*j)\n",
    "        j+=1\n",
    "    print()\n",
    "    i+=1"
   ]
  },
  {
   "cell_type": "markdown",
   "id": "ecf88d86",
   "metadata": {},
   "source": [
    "#### Jump Statements\n",
    "- we may call it as unconditional jumps\n",
    "- Break\n",
    "- Continue\n",
    "- Pass\n",
    "##### Break\n",
    "- Terminates the cuurent loop statement and resumes execution at the next statement\n",
    "- Break is a keyword"
   ]
  },
  {
   "cell_type": "code",
   "execution_count": 44,
   "id": "03cd1e09",
   "metadata": {},
   "outputs": [
    {
     "name": "stdout",
     "output_type": "stream",
     "text": [
      "p\n",
      "y\n",
      "t\n"
     ]
    }
   ],
   "source": [
    "for i in 'python':\n",
    "    if i=='h':\n",
    "        break\n",
    "    print(i)   "
   ]
  },
  {
   "cell_type": "code",
   "execution_count": 45,
   "id": "0a163975",
   "metadata": {},
   "outputs": [
    {
     "name": "stdout",
     "output_type": "stream",
     "text": [
      "1 2 3 4 5 6 "
     ]
    }
   ],
   "source": [
    "num=1\n",
    "while num<=10:\n",
    "    print(num,end=\" \")\n",
    "    if num==6:\n",
    "        #print(\"Break executed\")\n",
    "        break\n",
    "        print(\"Break executed\")\n",
    "    num+=1"
   ]
  },
  {
   "cell_type": "markdown",
   "id": "d58262d3",
   "metadata": {},
   "source": [
    "#### Continue Statement:\n",
    "- It skips only current iteration and continue the next iterations\n",
    "- Contiune is also a keyword"
   ]
  },
  {
   "cell_type": "code",
   "execution_count": 46,
   "id": "a9290ebe",
   "metadata": {},
   "outputs": [
    {
     "name": "stdout",
     "output_type": "stream",
     "text": [
      "0\n",
      "1\n",
      "2\n",
      "3\n",
      "4\n",
      "5\n",
      "7\n",
      "8\n",
      "9\n"
     ]
    }
   ],
   "source": [
    "for i in range(10):\n",
    "    if i==6:\n",
    "        continue\n",
    "        print(\"fdp\")\n",
    "    print(i)"
   ]
  },
  {
   "cell_type": "code",
   "execution_count": 47,
   "id": "ea982503",
   "metadata": {},
   "outputs": [
    {
     "name": "stdout",
     "output_type": "stream",
     "text": [
      "1 3 5 7 9 "
     ]
    }
   ],
   "source": [
    "#print odd nums using even number logic\n",
    "for num in range(1,10):\n",
    "    if num%2==0:   #even condition\n",
    "        continue   #continues\n",
    "    print(num,end=\" \")"
   ]
  },
  {
   "cell_type": "markdown",
   "id": "8ae8173f",
   "metadata": {},
   "source": [
    "#### Pass\n",
    "- Pass is a keyword\n",
    "- when we need condtion syntatically correct,butnwe need to change any other operation .\n",
    "- it is a null operation\n",
    "- continue with jump back to the loop,but pass will contiune the processingg\n",
    "- pass statement we use to create empty classes also"
   ]
  },
  {
   "cell_type": "code",
   "execution_count": 48,
   "id": "2ffb6705",
   "metadata": {},
   "outputs": [
    {
     "name": "stdout",
     "output_type": "stream",
     "text": [
      "p\n",
      "y\n",
      "t\n",
      "pass executed\n",
      "h\n",
      "o\n",
      "n\n"
     ]
    }
   ],
   "source": [
    "s='python'\n",
    "for i in s:\n",
    "    if i=='h':\n",
    "        pass\n",
    "        print(\"pass executed\")\n",
    "    print(i)"
   ]
  },
  {
   "cell_type": "markdown",
   "id": "600b7daf",
   "metadata": {},
   "source": [
    "#### Strings\n",
    "- Collection of items or group of characters\n",
    "- It is a derived datatype and immutable(unchangable- once defined they cannt be changed)\n",
    "- String is most popular type in python.we are simply create by using enclosing character in quations('' or \"\")\n",
    "- All strings return new values,but they cannot change the original string"
   ]
  },
  {
   "cell_type": "code",
   "execution_count": 49,
   "id": "e720a918",
   "metadata": {},
   "outputs": [
    {
     "name": "stdout",
     "output_type": "stream",
     "text": [
      "<class 'str'>\n"
     ]
    }
   ],
   "source": [
    "a=\"string\"\n",
    "print(type(a))"
   ]
  },
  {
   "cell_type": "code",
   "execution_count": 50,
   "id": "e98fd88f",
   "metadata": {},
   "outputs": [
    {
     "name": "stdout",
     "output_type": "stream",
     "text": [
      "6\n",
      "g\n",
      "t\n",
      "['g', 'i', 'n', 'r', 's', 't']\n"
     ]
    },
    {
     "ename": "TypeError",
     "evalue": "unsupported operand type(s) for +: 'int' and 'str'",
     "output_type": "error",
     "traceback": [
      "\u001b[1;31m---------------------------------------------------------------------------\u001b[0m",
      "\u001b[1;31mTypeError\u001b[0m                                 Traceback (most recent call last)",
      "\u001b[1;32m<ipython-input-50-1eca4d6d1ad2>\u001b[0m in \u001b[0;36m<module>\u001b[1;34m\u001b[0m\n\u001b[0;32m      3\u001b[0m \u001b[0mprint\u001b[0m\u001b[1;33m(\u001b[0m\u001b[0mmax\u001b[0m\u001b[1;33m(\u001b[0m\u001b[0ma\u001b[0m\u001b[1;33m)\u001b[0m\u001b[1;33m)\u001b[0m\u001b[1;33m\u001b[0m\u001b[1;33m\u001b[0m\u001b[0m\n\u001b[0;32m      4\u001b[0m \u001b[0mprint\u001b[0m\u001b[1;33m(\u001b[0m\u001b[0msorted\u001b[0m\u001b[1;33m(\u001b[0m\u001b[0ma\u001b[0m\u001b[1;33m)\u001b[0m\u001b[1;33m)\u001b[0m\u001b[1;33m\u001b[0m\u001b[1;33m\u001b[0m\u001b[0m\n\u001b[1;32m----> 5\u001b[1;33m \u001b[0mprint\u001b[0m\u001b[1;33m(\u001b[0m\u001b[0msum\u001b[0m\u001b[1;33m(\u001b[0m\u001b[0ma\u001b[0m\u001b[1;33m)\u001b[0m\u001b[1;33m)\u001b[0m\u001b[1;33m\u001b[0m\u001b[1;33m\u001b[0m\u001b[0m\n\u001b[0m",
      "\u001b[1;31mTypeError\u001b[0m: unsupported operand type(s) for +: 'int' and 'str'"
     ]
    }
   ],
   "source": [
    "print(len(a))\n",
    "print(min(a))\n",
    "print(max(a))\n",
    "print(sorted(a))\n",
    "print(sum(a))"
   ]
  },
  {
   "cell_type": "code",
   "execution_count": 51,
   "id": "ac2bcbd8",
   "metadata": {},
   "outputs": [
    {
     "name": "stdout",
     "output_type": "stream",
     "text": [
      "pythonworkshop\n",
      "python workshop\n",
      "pythonpythonpython\n"
     ]
    }
   ],
   "source": [
    "s=\"python\"\n",
    "s1=\"workshop\"\n",
    "print(s+s1)\n",
    "print(s,s1)\n",
    "print(s*3)  #repetation"
   ]
  },
  {
   "cell_type": "code",
   "execution_count": 52,
   "id": "891afe54",
   "metadata": {},
   "outputs": [
    {
     "name": "stdout",
     "output_type": "stream",
     "text": [
      "15\n",
      "p\n",
      "k\n"
     ]
    }
   ],
   "source": [
    "#Slicing(start:ending:step)\n",
    "#Positive indexing(left to right)\n",
    "s=\"python workshop\"\n",
    "print(len(s))\n",
    "print(s[0])\n",
    "print(s[10])"
   ]
  },
  {
   "cell_type": "code",
   "execution_count": 53,
   "id": "18ede296",
   "metadata": {},
   "outputs": [
    {
     "name": "stdout",
     "output_type": "stream",
     "text": [
      "python\n",
      "python workshop\n",
      "python wor\n",
      "workshop\n",
      "pto okhp\n",
      "ynro\n"
     ]
    }
   ],
   "source": [
    "s\n",
    "print(s[0:6])\n",
    "print(s[:])\n",
    "print(s[:10])\n",
    "print(s[7:])\n",
    "print(s[::2])\n",
    "print(s[1::4])"
   ]
  },
  {
   "cell_type": "markdown",
   "id": "5253c63c",
   "metadata": {},
   "source": [
    "#### List\n",
    "- list is a ordered and mutable data structure\n",
    "- it is represented with []\n"
   ]
  },
  {
   "cell_type": "code",
   "execution_count": 1,
   "id": "a786ae3d",
   "metadata": {},
   "outputs": [
    {
     "data": {
      "text/plain": [
       "['__add__',\n",
       " '__class__',\n",
       " '__contains__',\n",
       " '__delattr__',\n",
       " '__delitem__',\n",
       " '__dir__',\n",
       " '__doc__',\n",
       " '__eq__',\n",
       " '__format__',\n",
       " '__ge__',\n",
       " '__getattribute__',\n",
       " '__getitem__',\n",
       " '__gt__',\n",
       " '__hash__',\n",
       " '__iadd__',\n",
       " '__imul__',\n",
       " '__init__',\n",
       " '__init_subclass__',\n",
       " '__iter__',\n",
       " '__le__',\n",
       " '__len__',\n",
       " '__lt__',\n",
       " '__mul__',\n",
       " '__ne__',\n",
       " '__new__',\n",
       " '__reduce__',\n",
       " '__reduce_ex__',\n",
       " '__repr__',\n",
       " '__reversed__',\n",
       " '__rmul__',\n",
       " '__setattr__',\n",
       " '__setitem__',\n",
       " '__sizeof__',\n",
       " '__str__',\n",
       " '__subclasshook__',\n",
       " 'append',\n",
       " 'clear',\n",
       " 'copy',\n",
       " 'count',\n",
       " 'extend',\n",
       " 'index',\n",
       " 'insert',\n",
       " 'pop',\n",
       " 'remove',\n",
       " 'reverse',\n",
       " 'sort']"
      ]
     },
     "execution_count": 1,
     "metadata": {},
     "output_type": "execute_result"
    }
   ],
   "source": [
    "dir(list)"
   ]
  },
  {
   "cell_type": "code",
   "execution_count": null,
   "id": "dfe48c05",
   "metadata": {},
   "outputs": [],
   "source": [
    "'append',\n",
    " 'clear',\n",
    " 'copy',\n",
    " 'count',\n",
    " 'extend',\n",
    " 'index',\n",
    " 'insert',\n",
    " 'pop',\n",
    " 'remove',\n",
    " 'reverse',\n",
    " 'sort']"
   ]
  },
  {
   "cell_type": "code",
   "execution_count": 12,
   "id": "6594dcd8",
   "metadata": {},
   "outputs": [],
   "source": [
    "li=[1,2,3,4,5]\n",
    "li1=['pink','green','orange']\n",
    "li2=[10.24,20,'mango,23,25.7']"
   ]
  },
  {
   "cell_type": "code",
   "execution_count": 13,
   "id": "7ca2a95b",
   "metadata": {},
   "outputs": [
    {
     "name": "stdout",
     "output_type": "stream",
     "text": [
      "[1, 2, 3, 4, 5]\n",
      "['pink', 'green', 'orange']\n",
      "[10.24, 20, 'mango,23,25.7']\n"
     ]
    }
   ],
   "source": [
    "print(li)\n",
    "print(li1)\n",
    "print(li2)"
   ]
  },
  {
   "cell_type": "markdown",
   "id": "83c3fa23",
   "metadata": {},
   "source": [
    "#### adding new elements to a list\n",
    "- append()--->we can add one element at a time\n",
    "- extend()--->this will allows us to add multiple elements at atime to a list\n"
   ]
  },
  {
   "cell_type": "code",
   "execution_count": 14,
   "id": "c9ddfef2",
   "metadata": {},
   "outputs": [
    {
     "data": {
      "text/plain": [
       "[1, 2, 3, 4, 5, 65]"
      ]
     },
     "execution_count": 14,
     "metadata": {},
     "output_type": "execute_result"
    }
   ],
   "source": [
    "#65\n",
    "li.append(65)\n",
    "li"
   ]
  },
  {
   "cell_type": "code",
   "execution_count": 16,
   "id": "49d5103e",
   "metadata": {},
   "outputs": [
    {
     "data": {
      "text/plain": [
       "[1, 2, 3, 4, 5, 65, 32, 32]"
      ]
     },
     "execution_count": 16,
     "metadata": {},
     "output_type": "execute_result"
    }
   ],
   "source": [
    "li.append(32)\n",
    "li"
   ]
  },
  {
   "cell_type": "code",
   "execution_count": 22,
   "id": "6ae3afed",
   "metadata": {},
   "outputs": [
    {
     "name": "stdout",
     "output_type": "stream",
     "text": [
      "[1, 2]\n"
     ]
    },
    {
     "data": {
      "text/plain": [
       "[1, 2, 5, 'six', 7, 'eight']"
      ]
     },
     "execution_count": 22,
     "metadata": {},
     "output_type": "execute_result"
    }
   ],
   "source": [
    "l1=[1,2]\n",
    "print(l1)\n",
    "l1.extend([5,'six',7,'eight'])\n",
    "l1"
   ]
  },
  {
   "cell_type": "code",
   "execution_count": 23,
   "id": "a1ecc56d",
   "metadata": {},
   "outputs": [
    {
     "name": "stdout",
     "output_type": "stream",
     "text": [
      "6\n"
     ]
    }
   ],
   "source": [
    "print(len(l1))"
   ]
  },
  {
   "cell_type": "code",
   "execution_count": 25,
   "id": "7eca8e5f",
   "metadata": {},
   "outputs": [
    {
     "name": "stdout",
     "output_type": "stream",
     "text": [
      "[1, 2]\n"
     ]
    },
    {
     "data": {
      "text/plain": [
       "[1, 2, [5, 'six', 7, 'eight']]"
      ]
     },
     "execution_count": 25,
     "metadata": {},
     "output_type": "execute_result"
    }
   ],
   "source": [
    "l=[1,2]\n",
    "print(l)\n",
    "l.append([5,'six',7,'eight'])\n",
    "l"
   ]
  },
  {
   "cell_type": "code",
   "execution_count": 26,
   "id": "7f72bf17",
   "metadata": {},
   "outputs": [
    {
     "data": {
      "text/plain": [
       "3"
      ]
     },
     "execution_count": 26,
     "metadata": {},
     "output_type": "execute_result"
    }
   ],
   "source": [
    "len(l)"
   ]
  },
  {
   "cell_type": "code",
   "execution_count": 27,
   "id": "d1da17c5",
   "metadata": {},
   "outputs": [],
   "source": [
    "# insert--->if we want to add an element at a particular index position\n",
    "colors=['yellow','white','black']\n",
    "# maroon, 1 index\n",
    "colors.insert(1,'maroon')"
   ]
  },
  {
   "cell_type": "code",
   "execution_count": 28,
   "id": "95304d49",
   "metadata": {},
   "outputs": [
    {
     "data": {
      "text/plain": [
       "['yellow', 'maroon', 'white', 'black']"
      ]
     },
     "execution_count": 28,
     "metadata": {},
     "output_type": "execute_result"
    }
   ],
   "source": [
    "colors"
   ]
  },
  {
   "cell_type": "code",
   "execution_count": 30,
   "id": "5e02be6b",
   "metadata": {},
   "outputs": [
    {
     "data": {
      "text/plain": [
       "'maroon'"
      ]
     },
     "execution_count": 30,
     "metadata": {},
     "output_type": "execute_result"
    }
   ],
   "source": [
    "colors[1]"
   ]
  },
  {
   "cell_type": "code",
   "execution_count": 31,
   "id": "0affb6ec",
   "metadata": {},
   "outputs": [],
   "source": [
    "colors.insert(0,1000)"
   ]
  },
  {
   "cell_type": "code",
   "execution_count": 32,
   "id": "9d08113f",
   "metadata": {},
   "outputs": [
    {
     "data": {
      "text/plain": [
       "[1000, 'yellow', 'maroon', 'white', 'black']"
      ]
     },
     "execution_count": 32,
     "metadata": {},
     "output_type": "execute_result"
    }
   ],
   "source": [
    "colors"
   ]
  },
  {
   "cell_type": "code",
   "execution_count": 33,
   "id": "16e89c6a",
   "metadata": {},
   "outputs": [
    {
     "name": "stdout",
     "output_type": "stream",
     "text": [
      "[1000, 'yellow', 'maroon', 'purple', 'black']\n"
     ]
    }
   ],
   "source": [
    "# by using index positions we can add elements in the middle of the list\n",
    "colors[3]='purple'\n",
    "print(colors)"
   ]
  },
  {
   "cell_type": "markdown",
   "id": "6f4b13a0",
   "metadata": {},
   "source": [
    "# deletion \n",
    "- remove()\n",
    "- clear()\n",
    "- pop()-->it will remove the every last element"
   ]
  },
  {
   "cell_type": "code",
   "execution_count": 36,
   "id": "5f9e2d8d",
   "metadata": {},
   "outputs": [
    {
     "data": {
      "text/plain": [
       "[1000, 'yellow', 'maroon', 'purple', 'black']"
      ]
     },
     "execution_count": 36,
     "metadata": {},
     "output_type": "execute_result"
    }
   ],
   "source": [
    "colors"
   ]
  },
  {
   "cell_type": "code",
   "execution_count": 37,
   "id": "3c14a490",
   "metadata": {},
   "outputs": [
    {
     "data": {
      "text/plain": [
       "'black'"
      ]
     },
     "execution_count": 37,
     "metadata": {},
     "output_type": "execute_result"
    }
   ],
   "source": [
    "colors.pop()"
   ]
  },
  {
   "cell_type": "code",
   "execution_count": 38,
   "id": "3bb5d2a9",
   "metadata": {},
   "outputs": [
    {
     "data": {
      "text/plain": [
       "[1000, 'yellow', 'maroon', 'purple']"
      ]
     },
     "execution_count": 38,
     "metadata": {},
     "output_type": "execute_result"
    }
   ],
   "source": [
    "colors"
   ]
  },
  {
   "cell_type": "code",
   "execution_count": 39,
   "id": "3dfc2d8d",
   "metadata": {},
   "outputs": [
    {
     "data": {
      "text/plain": [
       "'purple'"
      ]
     },
     "execution_count": 39,
     "metadata": {},
     "output_type": "execute_result"
    }
   ],
   "source": [
    "colors.pop()"
   ]
  },
  {
   "cell_type": "code",
   "execution_count": 40,
   "id": "2f33891b",
   "metadata": {},
   "outputs": [
    {
     "data": {
      "text/plain": [
       "[1000, 'yellow', 'maroon']"
      ]
     },
     "execution_count": 40,
     "metadata": {},
     "output_type": "execute_result"
    }
   ],
   "source": [
    "colors"
   ]
  },
  {
   "cell_type": "code",
   "execution_count": 41,
   "id": "fd093fbe",
   "metadata": {},
   "outputs": [],
   "source": [
    "#remove-delete any particular element\n",
    "colors.remove(1000)"
   ]
  },
  {
   "cell_type": "code",
   "execution_count": 42,
   "id": "23cb8db2",
   "metadata": {},
   "outputs": [
    {
     "data": {
      "text/plain": [
       "['yellow', 'maroon']"
      ]
     },
     "execution_count": 42,
     "metadata": {},
     "output_type": "execute_result"
    }
   ],
   "source": [
    "colors"
   ]
  },
  {
   "cell_type": "code",
   "execution_count": 45,
   "id": "ea92b6af",
   "metadata": {},
   "outputs": [],
   "source": [
    "# clear()-->it will remove all the elements and leave the list empty\n",
    "colors\n",
    "colors.clear()"
   ]
  },
  {
   "cell_type": "code",
   "execution_count": 46,
   "id": "d8ba972b",
   "metadata": {},
   "outputs": [
    {
     "data": {
      "text/plain": [
       "[]"
      ]
     },
     "execution_count": 46,
     "metadata": {},
     "output_type": "execute_result"
    }
   ],
   "source": [
    "colors"
   ]
  },
  {
   "cell_type": "code",
   "execution_count": 48,
   "id": "eed2751a",
   "metadata": {
    "scrolled": true
   },
   "outputs": [
    {
     "ename": "NameError",
     "evalue": "name 'p' is not defined",
     "output_type": "error",
     "traceback": [
      "\u001b[1;31m---------------------------------------------------------------------------\u001b[0m",
      "\u001b[1;31mNameError\u001b[0m                                 Traceback (most recent call last)",
      "\u001b[1;32m<ipython-input-48-5405f259f100>\u001b[0m in \u001b[0;36m<module>\u001b[1;34m\u001b[0m\n\u001b[0;32m      1\u001b[0m \u001b[0mp\u001b[0m\u001b[1;33m=\u001b[0m\u001b[1;33m[\u001b[0m\u001b[1;36m12\u001b[0m\u001b[1;33m,\u001b[0m\u001b[1;36m13\u001b[0m\u001b[1;33m]\u001b[0m\u001b[1;33m\u001b[0m\u001b[1;33m\u001b[0m\u001b[0m\n\u001b[0;32m      2\u001b[0m \u001b[1;32mdel\u001b[0m \u001b[0mp\u001b[0m\u001b[1;33m\u001b[0m\u001b[1;33m\u001b[0m\u001b[0m\n\u001b[1;32m----> 3\u001b[1;33m \u001b[0mp\u001b[0m\u001b[1;33m\u001b[0m\u001b[1;33m\u001b[0m\u001b[0m\n\u001b[0m",
      "\u001b[1;31mNameError\u001b[0m: name 'p' is not defined"
     ]
    }
   ],
   "source": [
    "p=[12,13]\n",
    "del p\n",
    "p"
   ]
  },
  {
   "cell_type": "code",
   "execution_count": 49,
   "id": "934da4c3",
   "metadata": {},
   "outputs": [],
   "source": [
    "# index()---> to know the index positions of a particular element\n",
    "# count()-->to know the occurances of an element\n",
    "# copy()-->to make a second list with the same elements\n",
    "# reverse()-->to reverse list\n",
    "# sort()--> to sort the list"
   ]
  },
  {
   "cell_type": "code",
   "execution_count": 52,
   "id": "81688411",
   "metadata": {},
   "outputs": [
    {
     "data": {
      "text/plain": [
       "9"
      ]
     },
     "execution_count": 52,
     "metadata": {},
     "output_type": "execute_result"
    }
   ],
   "source": [
    "n=[98,45,2,3,7,30,28,36,87,103]\n",
    "# index value of\n",
    "n.index(7)\n",
    "n.index(103)"
   ]
  },
  {
   "cell_type": "code",
   "execution_count": 53,
   "id": "0c436ac3",
   "metadata": {},
   "outputs": [
    {
     "data": {
      "text/plain": [
       "1"
      ]
     },
     "execution_count": 53,
     "metadata": {},
     "output_type": "execute_result"
    }
   ],
   "source": [
    "n.count(36)"
   ]
  },
  {
   "cell_type": "code",
   "execution_count": 54,
   "id": "c039927d",
   "metadata": {},
   "outputs": [
    {
     "data": {
      "text/plain": [
       "[98, 45, 2, 3, 7, 30, 28, 36, 87, 103]"
      ]
     },
     "execution_count": 54,
     "metadata": {},
     "output_type": "execute_result"
    }
   ],
   "source": [
    "n\n"
   ]
  },
  {
   "cell_type": "code",
   "execution_count": 55,
   "id": "bed2bfbc",
   "metadata": {},
   "outputs": [
    {
     "data": {
      "text/plain": [
       "[98, 45, 2, 3, 7, 30, 28, 36, 87, 103]"
      ]
     },
     "execution_count": 55,
     "metadata": {},
     "output_type": "execute_result"
    }
   ],
   "source": [
    "n1=n.copy()\n",
    "n2=n\n",
    "n1"
   ]
  },
  {
   "cell_type": "code",
   "execution_count": 56,
   "id": "22208776",
   "metadata": {},
   "outputs": [
    {
     "data": {
      "text/plain": [
       "[98, 45, 2, 3, 7, 30, 28, 36, 87, 103]"
      ]
     },
     "execution_count": 56,
     "metadata": {},
     "output_type": "execute_result"
    }
   ],
   "source": [
    "n2"
   ]
  },
  {
   "cell_type": "code",
   "execution_count": 57,
   "id": "c1f840ee",
   "metadata": {},
   "outputs": [],
   "source": [
    "# reverse\n",
    "s=[1,2,3,4,5,6]\n",
    "s.reverse()"
   ]
  },
  {
   "cell_type": "code",
   "execution_count": 58,
   "id": "887a6bbd",
   "metadata": {},
   "outputs": [
    {
     "data": {
      "text/plain": [
       "[6, 5, 4, 3, 2, 1]"
      ]
     },
     "execution_count": 58,
     "metadata": {},
     "output_type": "execute_result"
    }
   ],
   "source": [
    "s"
   ]
  },
  {
   "cell_type": "code",
   "execution_count": 59,
   "id": "fce7bbbb",
   "metadata": {},
   "outputs": [
    {
     "data": {
      "text/plain": [
       "[1, 2, 3, 4, 5, 6]"
      ]
     },
     "execution_count": 59,
     "metadata": {},
     "output_type": "execute_result"
    }
   ],
   "source": [
    "s[::-1]"
   ]
  },
  {
   "cell_type": "code",
   "execution_count": 60,
   "id": "dedd9586",
   "metadata": {},
   "outputs": [
    {
     "data": {
      "text/plain": [
       "'hsnav'"
      ]
     },
     "execution_count": 60,
     "metadata": {},
     "output_type": "execute_result"
    }
   ],
   "source": [
    "p='vansh'\n",
    "p[::-1]"
   ]
  },
  {
   "cell_type": "code",
   "execution_count": 61,
   "id": "8e6e73f6",
   "metadata": {},
   "outputs": [
    {
     "data": {
      "text/plain": [
       "'vansh'"
      ]
     },
     "execution_count": 61,
     "metadata": {},
     "output_type": "execute_result"
    }
   ],
   "source": [
    "p"
   ]
  },
  {
   "cell_type": "code",
   "execution_count": 62,
   "id": "1b6715d4",
   "metadata": {},
   "outputs": [],
   "source": [
    "n=[2,7,80,34,67,45,12,7,90]\n",
    "n.sort() # ascending order"
   ]
  },
  {
   "cell_type": "code",
   "execution_count": 63,
   "id": "1131cf38",
   "metadata": {},
   "outputs": [
    {
     "data": {
      "text/plain": [
       "[2, 7, 7, 12, 34, 45, 67, 80, 90]"
      ]
     },
     "execution_count": 63,
     "metadata": {},
     "output_type": "execute_result"
    }
   ],
   "source": [
    "n"
   ]
  },
  {
   "cell_type": "code",
   "execution_count": 64,
   "id": "80f48e46",
   "metadata": {},
   "outputs": [
    {
     "data": {
      "text/plain": [
       "[90, 80, 67, 45, 34, 12, 7, 7, 2]"
      ]
     },
     "execution_count": 64,
     "metadata": {},
     "output_type": "execute_result"
    }
   ],
   "source": [
    "# second max\n",
    "# 5th min value\n",
    "# 5th max value\n",
    "n.sort(reverse=True)\n",
    "n"
   ]
  },
  {
   "cell_type": "markdown",
   "id": "5a2c05a3",
   "metadata": {},
   "source": [
    "### Tuples\n",
    "- we represented a tuple by ()\n",
    "- indexing and slicing are possible\n",
    "- it is a immutable data structure"
   ]
  },
  {
   "cell_type": "code",
   "execution_count": 65,
   "id": "902bcfab",
   "metadata": {},
   "outputs": [
    {
     "name": "stdout",
     "output_type": "stream",
     "text": [
      "(1, 2, 3, 4)\n"
     ]
    }
   ],
   "source": [
    "t=(1,2,3,4)\n",
    "print(t)"
   ]
  },
  {
   "cell_type": "code",
   "execution_count": 66,
   "id": "a4045b7e",
   "metadata": {},
   "outputs": [
    {
     "data": {
      "text/plain": [
       "1"
      ]
     },
     "execution_count": 66,
     "metadata": {},
     "output_type": "execute_result"
    }
   ],
   "source": [
    "t[0]"
   ]
  },
  {
   "cell_type": "code",
   "execution_count": 67,
   "id": "a3cf6918",
   "metadata": {},
   "outputs": [
    {
     "data": {
      "text/plain": [
       "4"
      ]
     },
     "execution_count": 67,
     "metadata": {},
     "output_type": "execute_result"
    }
   ],
   "source": [
    "t[3]"
   ]
  },
  {
   "cell_type": "code",
   "execution_count": 68,
   "id": "3c9c8826",
   "metadata": {},
   "outputs": [
    {
     "data": {
      "text/plain": [
       "(1, 2, 3, 4)"
      ]
     },
     "execution_count": 68,
     "metadata": {},
     "output_type": "execute_result"
    }
   ],
   "source": [
    "t[:4]"
   ]
  },
  {
   "cell_type": "code",
   "execution_count": 69,
   "id": "5d1ade2d",
   "metadata": {},
   "outputs": [
    {
     "data": {
      "text/plain": [
       "3"
      ]
     },
     "execution_count": 69,
     "metadata": {},
     "output_type": "execute_result"
    }
   ],
   "source": [
    "t[2]"
   ]
  },
  {
   "cell_type": "code",
   "execution_count": 71,
   "id": "f22a522c",
   "metadata": {},
   "outputs": [
    {
     "data": {
      "text/plain": [
       "(2, 3)"
      ]
     },
     "execution_count": 71,
     "metadata": {},
     "output_type": "execute_result"
    }
   ],
   "source": [
    "t[1:3]"
   ]
  },
  {
   "cell_type": "code",
   "execution_count": 72,
   "id": "ec637eb7",
   "metadata": {},
   "outputs": [
    {
     "data": {
      "text/plain": [
       "['__add__',\n",
       " '__class__',\n",
       " '__contains__',\n",
       " '__delattr__',\n",
       " '__dir__',\n",
       " '__doc__',\n",
       " '__eq__',\n",
       " '__format__',\n",
       " '__ge__',\n",
       " '__getattribute__',\n",
       " '__getitem__',\n",
       " '__getnewargs__',\n",
       " '__gt__',\n",
       " '__hash__',\n",
       " '__init__',\n",
       " '__init_subclass__',\n",
       " '__iter__',\n",
       " '__le__',\n",
       " '__len__',\n",
       " '__lt__',\n",
       " '__mul__',\n",
       " '__ne__',\n",
       " '__new__',\n",
       " '__reduce__',\n",
       " '__reduce_ex__',\n",
       " '__repr__',\n",
       " '__rmul__',\n",
       " '__setattr__',\n",
       " '__sizeof__',\n",
       " '__str__',\n",
       " '__subclasshook__',\n",
       " 'count',\n",
       " 'index']"
      ]
     },
     "execution_count": 72,
     "metadata": {},
     "output_type": "execute_result"
    }
   ],
   "source": [
    "dir(tuple)"
   ]
  },
  {
   "cell_type": "code",
   "execution_count": 74,
   "id": "3152ce20",
   "metadata": {},
   "outputs": [
    {
     "data": {
      "text/plain": [
       "1"
      ]
     },
     "execution_count": 74,
     "metadata": {},
     "output_type": "execute_result"
    }
   ],
   "source": [
    "# count() --->\n",
    "# index()-->\n",
    "t.count(2)"
   ]
  },
  {
   "cell_type": "code",
   "execution_count": 75,
   "id": "6192a4d5",
   "metadata": {},
   "outputs": [
    {
     "data": {
      "text/plain": [
       "1"
      ]
     },
     "execution_count": 75,
     "metadata": {},
     "output_type": "execute_result"
    }
   ],
   "source": [
    "t.index(2)"
   ]
  },
  {
   "cell_type": "code",
   "execution_count": 76,
   "id": "46324d48",
   "metadata": {},
   "outputs": [],
   "source": [
    "a=(12,13,14)\n",
    "a1=list(a)"
   ]
  },
  {
   "cell_type": "code",
   "execution_count": 77,
   "id": "6803927a",
   "metadata": {},
   "outputs": [
    {
     "data": {
      "text/plain": [
       "[12, 13, 14]"
      ]
     },
     "execution_count": 77,
     "metadata": {},
     "output_type": "execute_result"
    }
   ],
   "source": [
    "a1"
   ]
  },
  {
   "cell_type": "code",
   "execution_count": 78,
   "id": "1ea907b6",
   "metadata": {},
   "outputs": [],
   "source": [
    "a1.extend([15,16])"
   ]
  },
  {
   "cell_type": "code",
   "execution_count": 79,
   "id": "2cd76132",
   "metadata": {},
   "outputs": [
    {
     "data": {
      "text/plain": [
       "[12, 13, 14, 15, 16]"
      ]
     },
     "execution_count": 79,
     "metadata": {},
     "output_type": "execute_result"
    }
   ],
   "source": [
    "a1"
   ]
  },
  {
   "cell_type": "code",
   "execution_count": 80,
   "id": "3aa8b91c",
   "metadata": {},
   "outputs": [
    {
     "name": "stdout",
     "output_type": "stream",
     "text": [
      "<class 'tuple'>\n",
      "(12, 13, 14, 15, 16)\n"
     ]
    }
   ],
   "source": [
    "a=tuple(a1)\n",
    "print(type(a))\n",
    "print(a)"
   ]
  },
  {
   "cell_type": "code",
   "execution_count": 81,
   "id": "b5c5c49b",
   "metadata": {},
   "outputs": [
    {
     "data": {
      "text/plain": [
       "tuple"
      ]
     },
     "execution_count": 81,
     "metadata": {},
     "output_type": "execute_result"
    }
   ],
   "source": [
    "b=6,7,8,9,10\n",
    "type(b)"
   ]
  },
  {
   "cell_type": "markdown",
   "id": "00962713",
   "metadata": {},
   "source": [
    "### sets\n",
    "- it is immutable data structure and un-ordered\n",
    "- indexing and slicing are not possible \n",
    "- represented {} or set()"
   ]
  },
  {
   "cell_type": "code",
   "execution_count": 82,
   "id": "b1f7a5db",
   "metadata": {},
   "outputs": [
    {
     "name": "stdout",
     "output_type": "stream",
     "text": [
      "{2, 3, 4, 5, 7, 9}\n"
     ]
    }
   ],
   "source": [
    "s={9,4,7,4,2,3,5}\n",
    "print(s)"
   ]
  },
  {
   "cell_type": "code",
   "execution_count": 83,
   "id": "31cb6637",
   "metadata": {},
   "outputs": [
    {
     "data": {
      "text/plain": [
       "['__and__',\n",
       " '__class__',\n",
       " '__contains__',\n",
       " '__delattr__',\n",
       " '__dir__',\n",
       " '__doc__',\n",
       " '__eq__',\n",
       " '__format__',\n",
       " '__ge__',\n",
       " '__getattribute__',\n",
       " '__gt__',\n",
       " '__hash__',\n",
       " '__iand__',\n",
       " '__init__',\n",
       " '__init_subclass__',\n",
       " '__ior__',\n",
       " '__isub__',\n",
       " '__iter__',\n",
       " '__ixor__',\n",
       " '__le__',\n",
       " '__len__',\n",
       " '__lt__',\n",
       " '__ne__',\n",
       " '__new__',\n",
       " '__or__',\n",
       " '__rand__',\n",
       " '__reduce__',\n",
       " '__reduce_ex__',\n",
       " '__repr__',\n",
       " '__ror__',\n",
       " '__rsub__',\n",
       " '__rxor__',\n",
       " '__setattr__',\n",
       " '__sizeof__',\n",
       " '__str__',\n",
       " '__sub__',\n",
       " '__subclasshook__',\n",
       " '__xor__',\n",
       " 'add',\n",
       " 'clear',\n",
       " 'copy',\n",
       " 'difference',\n",
       " 'difference_update',\n",
       " 'discard',\n",
       " 'intersection',\n",
       " 'intersection_update',\n",
       " 'isdisjoint',\n",
       " 'issubset',\n",
       " 'issuperset',\n",
       " 'pop',\n",
       " 'remove',\n",
       " 'symmetric_difference',\n",
       " 'symmetric_difference_update',\n",
       " 'union',\n",
       " 'update']"
      ]
     },
     "execution_count": 83,
     "metadata": {},
     "output_type": "execute_result"
    }
   ],
   "source": [
    "dir(set())"
   ]
  },
  {
   "cell_type": "code",
   "execution_count": 84,
   "id": "e4e414bf",
   "metadata": {},
   "outputs": [
    {
     "data": {
      "text/plain": [
       "{1, 2, 3, 4, 5, 6, 7, 8, 9}"
      ]
     },
     "execution_count": 84,
     "metadata": {},
     "output_type": "execute_result"
    }
   ],
   "source": [
    "a={1,2,3,4,5,6,7}\n",
    "b={8,9,3,4,5,1,9}\n",
    "a.union(b)"
   ]
  },
  {
   "cell_type": "code",
   "execution_count": 85,
   "id": "f993d7f0",
   "metadata": {},
   "outputs": [
    {
     "data": {
      "text/plain": [
       "{1, 3, 4, 5}"
      ]
     },
     "execution_count": 85,
     "metadata": {},
     "output_type": "execute_result"
    }
   ],
   "source": [
    "a.intersection(b)"
   ]
  },
  {
   "cell_type": "code",
   "execution_count": 86,
   "id": "ecbd52c4",
   "metadata": {},
   "outputs": [
    {
     "data": {
      "text/plain": [
       "{2, 6, 7}"
      ]
     },
     "execution_count": 86,
     "metadata": {},
     "output_type": "execute_result"
    }
   ],
   "source": [
    "a.difference(b)"
   ]
  },
  {
   "cell_type": "code",
   "execution_count": 87,
   "id": "c0724cfe",
   "metadata": {},
   "outputs": [
    {
     "data": {
      "text/plain": [
       "False"
      ]
     },
     "execution_count": 87,
     "metadata": {},
     "output_type": "execute_result"
    }
   ],
   "source": [
    "a.isdisjoint(b)"
   ]
  },
  {
   "cell_type": "code",
   "execution_count": 90,
   "id": "00da9eb3",
   "metadata": {},
   "outputs": [
    {
     "data": {
      "text/plain": [
       "False"
      ]
     },
     "execution_count": 90,
     "metadata": {},
     "output_type": "execute_result"
    }
   ],
   "source": [
    "a.issubset(b)"
   ]
  },
  {
   "cell_type": "code",
   "execution_count": 91,
   "id": "e9b5772f",
   "metadata": {},
   "outputs": [
    {
     "data": {
      "text/plain": [
       "False"
      ]
     },
     "execution_count": 91,
     "metadata": {},
     "output_type": "execute_result"
    }
   ],
   "source": [
    "a.issuperset(b)"
   ]
  },
  {
   "cell_type": "code",
   "execution_count": null,
   "id": "92aa63ed",
   "metadata": {},
   "outputs": [],
   "source": []
  }
 ],
 "metadata": {
  "kernelspec": {
   "display_name": "Python 3",
   "language": "python",
   "name": "python3"
  },
  "language_info": {
   "codemirror_mode": {
    "name": "ipython",
    "version": 3
   },
   "file_extension": ".py",
   "mimetype": "text/x-python",
   "name": "python",
   "nbconvert_exporter": "python",
   "pygments_lexer": "ipython3",
   "version": "3.8.8"
  }
 },
 "nbformat": 4,
 "nbformat_minor": 5
}
