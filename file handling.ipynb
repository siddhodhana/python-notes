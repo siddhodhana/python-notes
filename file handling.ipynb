{
 "cells": [
  {
   "cell_type": "markdown",
   "id": "2e3fe816",
   "metadata": {},
   "source": [
    "# File handling\n",
    "- File:File is a named location or memory used to store relative information\n",
    "  - ex: .txt,.jg,.py,.ipynb,.mp3,.mp4,.csv\n",
    "- filehandling:It allows user to handle files.\n",
    "- Compared to other languages programming in filehandling is easy in python\n",
    "- Read and write files,along with otherfiles handle options,to work on files.\n",
    "\n",
    "- Steps of the file handling:\n",
    "  - Open a file\n",
    "  - Doing operations\n",
    "  - Close a file.\n",
    "- open function()\n",
    "   - we use open fun() in python to open the file in read and write optiokns.\n",
    "   - To return a object we use in open fun() along 2 arguments,that accepts the filename and the mode,whether read or write.\n",
    "   - syntax:open(filename,mode)\n",
    "- modes are three types,to open a file\n",
    "  - read()-'r'-->to read a file\n",
    "     - file_variable.read(size)\n",
    "  - write()-'w'-->to write a file\n",
    "     - file_variable.write(data)\n",
    "  - append()-'a'-->to write a file\n",
    "     - file_variable.write(data)\n",
    "- By default the file file will open as 'r' mode.\n",
    "- close()\n",
    "  - it is used to close a file\n",
    "  - Every time you have to close a file at the end of the operations,otherwise the changes will not applied."
   ]
  },
  {
   "cell_type": "code",
   "execution_count": 2,
   "id": "00a7448c",
   "metadata": {},
   "outputs": [
    {
     "name": "stdout",
     "output_type": "stream",
     "text": [
      "sussesfully opened\n"
     ]
    }
   ],
   "source": [
    "f=open('data.txt','r')\n",
    "if f:\n",
    "    print(\"sussesfully opened\")\n",
    "else:\n",
    "    print(\"falied\")"
   ]
  },
  {
   "cell_type": "code",
   "execution_count": 3,
   "id": "3514968a",
   "metadata": {},
   "outputs": [
    {
     "name": "stdout",
     "output_type": "stream",
     "text": [
      "goodmorning\n"
     ]
    }
   ],
   "source": [
    "#readmode\n",
    "f=open('data.txt')\n",
    "print(f.read())\n",
    "f.close()"
   ]
  },
  {
   "cell_type": "code",
   "execution_count": 4,
   "id": "9774b7a1",
   "metadata": {},
   "outputs": [
    {
     "name": "stdout",
     "output_type": "stream",
     "text": [
      "goodmorning\n"
     ]
    }
   ],
   "source": [
    "#using withautomatically file will be closed at the end of theoperatins.\n",
    "with open('data.txt')as f:\n",
    "    fr=f.read()\n",
    "    print(fr)"
   ]
  },
  {
   "cell_type": "code",
   "execution_count": 5,
   "id": "37fe5539",
   "metadata": {},
   "outputs": [
    {
     "name": "stdout",
     "output_type": "stream",
     "text": [
      "goodmo\n"
     ]
    }
   ],
   "source": [
    "f=open('data.txt','r')\n",
    "print(f.read(6))\n",
    "f.close()"
   ]
  },
  {
   "cell_type": "code",
   "execution_count": 6,
   "id": "3ec8c357",
   "metadata": {},
   "outputs": [
    {
     "name": "stdout",
     "output_type": "stream",
     "text": [
      "18\n"
     ]
    }
   ],
   "source": [
    "f=open('data1.txt','w')\n",
    "fr=f.write('Python programming')\n",
    "print(fr)\n",
    "f.close()"
   ]
  },
  {
   "cell_type": "markdown",
   "id": "66c9461f",
   "metadata": {},
   "source": [
    "- file handling methods\n",
    "   - open()\n",
    "   - read()\n",
    "   - write()\n",
    "   - close()\n",
    "   - readline()\n",
    "   - readlines()\n",
    "   - seek()\n",
    "   - tell()\n",
    "- types of modes\n",
    "    - read()-----represent with 'r'\n",
    "    - write()-----'w'\n",
    "    - append()-----'a'\n",
    "    "
   ]
  },
  {
   "cell_type": "code",
   "execution_count": 19,
   "id": "05fca0cf",
   "metadata": {},
   "outputs": [],
   "source": [
    "f=open(\"data.txt\")\n"
   ]
  },
  {
   "cell_type": "code",
   "execution_count": 16,
   "id": "8382ce7f",
   "metadata": {},
   "outputs": [],
   "source": [
    "#info=f.read()"
   ]
  },
  {
   "cell_type": "code",
   "execution_count": 15,
   "id": "a6440df1",
   "metadata": {},
   "outputs": [],
   "source": [
    "#print(info)"
   ]
  },
  {
   "cell_type": "code",
   "execution_count": 20,
   "id": "dc80529a",
   "metadata": {},
   "outputs": [],
   "source": [
    "info=f.read(6) #\n"
   ]
  },
  {
   "cell_type": "code",
   "execution_count": 21,
   "id": "4e14968e",
   "metadata": {},
   "outputs": [
    {
     "name": "stdout",
     "output_type": "stream",
     "text": [
      "goodmo\n"
     ]
    }
   ],
   "source": [
    "print(info)"
   ]
  },
  {
   "cell_type": "code",
   "execution_count": 22,
   "id": "766ac89e",
   "metadata": {},
   "outputs": [
    {
     "name": "stdout",
     "output_type": "stream",
     "text": [
      "rning\n"
     ]
    }
   ],
   "source": [
    "d=f.read()\n",
    "print(d)"
   ]
  },
  {
   "cell_type": "code",
   "execution_count": 23,
   "id": "715cd408",
   "metadata": {},
   "outputs": [],
   "source": [
    "f.close()"
   ]
  },
  {
   "cell_type": "code",
   "execution_count": 24,
   "id": "3a1aaed4",
   "metadata": {},
   "outputs": [
    {
     "ename": "ValueError",
     "evalue": "I/O operation on closed file.",
     "output_type": "error",
     "traceback": [
      "\u001b[1;31m---------------------------------------------------------------------------\u001b[0m",
      "\u001b[1;31mValueError\u001b[0m                                Traceback (most recent call last)",
      "\u001b[1;32m<ipython-input-24-571e9fb02258>\u001b[0m in \u001b[0;36m<module>\u001b[1;34m\u001b[0m\n\u001b[1;32m----> 1\u001b[1;33m \u001b[0mf\u001b[0m\u001b[1;33m.\u001b[0m\u001b[0mread\u001b[0m\u001b[1;33m(\u001b[0m\u001b[1;33m)\u001b[0m\u001b[1;33m\u001b[0m\u001b[1;33m\u001b[0m\u001b[0m\n\u001b[0m",
      "\u001b[1;31mValueError\u001b[0m: I/O operation on closed file."
     ]
    }
   ],
   "source": [
    "f.read()"
   ]
  },
  {
   "cell_type": "markdown",
   "id": "b3b425b0",
   "metadata": {},
   "source": [
    "# write mode()\n",
    "- it is used to write something in file\n",
    "- if file is not their directory,the file will be created and data will be written in that file."
   ]
  },
  {
   "cell_type": "code",
   "execution_count": 48,
   "id": "42d29a25",
   "metadata": {},
   "outputs": [],
   "source": [
    "fo=open('data.txt','w')"
   ]
  },
  {
   "cell_type": "code",
   "execution_count": 49,
   "id": "8af638aa",
   "metadata": {},
   "outputs": [
    {
     "data": {
      "text/plain": [
       "6"
      ]
     },
     "execution_count": 49,
     "metadata": {},
     "output_type": "execute_result"
    }
   ],
   "source": [
    "fo.write(\"gudbye\")"
   ]
  },
  {
   "cell_type": "code",
   "execution_count": 50,
   "id": "2572c83a",
   "metadata": {},
   "outputs": [
    {
     "data": {
      "text/plain": [
       "25"
      ]
     },
     "execution_count": 50,
     "metadata": {},
     "output_type": "execute_result"
    }
   ],
   "source": [
    "f=open('data.txt','a')\n",
    "fo.write(\"bdsdjs jsgjshkj sjcajcksj\")"
   ]
  },
  {
   "cell_type": "code",
   "execution_count": 52,
   "id": "7679642f",
   "metadata": {},
   "outputs": [],
   "source": [
    "#readline()---->used to read one line of data at a time\n",
    "#readlines()--->to read number of lines at a time"
   ]
  },
  {
   "cell_type": "code",
   "execution_count": 53,
   "id": "86381181",
   "metadata": {},
   "outputs": [
    {
     "name": "stdout",
     "output_type": "stream",
     "text": [
      "gudbyebdsdjs jsgjshkj sjcajcksj\n",
      "\n",
      "firstline\n",
      "\n"
     ]
    }
   ],
   "source": [
    "f=open(\"data.txt\",'r')\n",
    "s=f.readline()\n",
    "print(s)\n",
    "t=f.readline()\n",
    "print(t)"
   ]
  },
  {
   "cell_type": "code",
   "execution_count": 54,
   "id": "9ed0b033",
   "metadata": {},
   "outputs": [
    {
     "name": "stdout",
     "output_type": "stream",
     "text": [
      "['secondline\\n', 'thirdline\\n', 'fourthline\\n', 'fifthline\\n', 'sixthline\\n']\n"
     ]
    }
   ],
   "source": [
    "u=f.readlines()\n",
    "print(u)"
   ]
  },
  {
   "cell_type": "code",
   "execution_count": 55,
   "id": "226f2989",
   "metadata": {},
   "outputs": [
    {
     "name": "stdout",
     "output_type": "stream",
     "text": [
      "gudbyebdsdjs jsgjshkj sjcajcksj\n",
      "\n",
      "32\n",
      "firstline\n",
      "\n",
      "42\n"
     ]
    }
   ],
   "source": [
    "# seek()--->to move the pointer from one place to another\n",
    "# tell()--->to know the current pointer position\n",
    "f=open(\"data.txt\",'r')\n",
    "s=f.readline()\n",
    "print(s)\n",
    "print(f.tell())\n",
    "t=f.readline()\n",
    "print(t)\n",
    "print(f.tell())"
   ]
  },
  {
   "cell_type": "code",
   "execution_count": 58,
   "id": "114e99e8",
   "metadata": {},
   "outputs": [
    {
     "data": {
      "text/plain": [
       "'j\\nfirstlin'"
      ]
     },
     "execution_count": 58,
     "metadata": {},
     "output_type": "execute_result"
    }
   ],
   "source": [
    "f=open(\"data.txt\",'r')\n",
    "f.read(4)\n",
    "f.tell()\n",
    "f.seek(10)\n",
    "f.read(6)\n",
    "f.seek(30)\n",
    "f.read(10)"
   ]
  },
  {
   "cell_type": "code",
   "execution_count": 59,
   "id": "cf95ed13",
   "metadata": {},
   "outputs": [
    {
     "name": "stdout",
     "output_type": "stream",
     "text": [
      "number of lines in the file are:  7\n"
     ]
    }
   ],
   "source": [
    "# WAP to know the number of lines in file\n",
    "# with-->automatically it will closes the file after performing all the operation\n",
    "\n",
    "with open(\"data.txt\",'r') as f:\n",
    "    no_of_lines=f.readlines()\n",
    "    print('number of lines in the file are: ',len(no_of_lines))"
   ]
  },
  {
   "cell_type": "code",
   "execution_count": 61,
   "id": "76a42bb9",
   "metadata": {},
   "outputs": [
    {
     "name": "stdout",
     "output_type": "stream",
     "text": [
      "number of words are:  9\n"
     ]
    }
   ],
   "source": [
    "# no of words in the given file\n",
    "words=0\n",
    "for line in no_of_lines:\n",
    "    words_list=line.split()\n",
    "    words +=len(words_list)\n",
    "print(\"number of words are: \",words)"
   ]
  },
  {
   "cell_type": "markdown",
   "id": "a439a055",
   "metadata": {},
   "source": [
    "# Packages and modules\n",
    "- module:module is nothing but .py file or no.of files it contaims functions.\n",
    "  - module is single or multiple files,that can be reuse your code.\n",
    "- Packages: collection of modules\n",
    "  - package is a directory of such modules\n",
    "  - it possible to put several modules in to a package\n",
    "- modules are 2 types\n",
    "  - Buildin module -ex:math functions...\n",
    "  - userdefined module"
   ]
  },
  {
   "cell_type": "code",
   "execution_count": 19,
   "id": "217edd94",
   "metadata": {},
   "outputs": [],
   "source": [
    "import math"
   ]
  },
  {
   "cell_type": "code",
   "execution_count": 20,
   "id": "43c23b59",
   "metadata": {
    "scrolled": true
   },
   "outputs": [
    {
     "name": "stdout",
     "output_type": "stream",
     "text": [
      "['__doc__', '__loader__', '__name__', '__package__', '__spec__', 'acos', 'acosh', 'asin', 'asinh', 'atan', 'atan2', 'atanh', 'ceil', 'comb', 'copysign', 'cos', 'cosh', 'degrees', 'dist', 'e', 'erf', 'erfc', 'exp', 'expm1', 'fabs', 'factorial', 'floor', 'fmod', 'frexp', 'fsum', 'gamma', 'gcd', 'hypot', 'inf', 'isclose', 'isfinite', 'isinf', 'isnan', 'isqrt', 'ldexp', 'lgamma', 'log', 'log10', 'log1p', 'log2', 'modf', 'nan', 'perm', 'pi', 'pow', 'prod', 'radians', 'remainder', 'sin', 'sinh', 'sqrt', 'tan', 'tanh', 'tau', 'trunc'] "
     ]
    }
   ],
   "source": [
    "print(dir(math),end=\" \")"
   ]
  },
  {
   "cell_type": "code",
   "execution_count": 21,
   "id": "2e3e7501",
   "metadata": {},
   "outputs": [
    {
     "data": {
      "text/plain": [
       "2432902008176640000"
      ]
     },
     "execution_count": 21,
     "metadata": {},
     "output_type": "execute_result"
    }
   ],
   "source": [
    "math.factorial(20)"
   ]
  },
  {
   "cell_type": "code",
   "execution_count": 22,
   "id": "16d69181",
   "metadata": {},
   "outputs": [],
   "source": [
    "import time"
   ]
  },
  {
   "cell_type": "code",
   "execution_count": 24,
   "id": "acfcd303",
   "metadata": {},
   "outputs": [
    {
     "data": {
      "text/plain": [
       "'Fri Nov 12 06:26:05 2021'"
      ]
     },
     "execution_count": 24,
     "metadata": {},
     "output_type": "execute_result"
    }
   ],
   "source": [
    "time.ctime()"
   ]
  },
  {
   "cell_type": "code",
   "execution_count": 67,
   "id": "ad8bedd3",
   "metadata": {},
   "outputs": [
    {
     "name": "stdout",
     "output_type": "stream",
     "text": [
      "720\n",
      "3.141592653589793\n",
      "2.0\n"
     ]
    }
   ],
   "source": [
    "from math import factorial,pi,remainder\n",
    "print(factorial(6))\n",
    "print(pi)\n",
    "print(remainder(20,6))"
   ]
  },
  {
   "cell_type": "code",
   "execution_count": 68,
   "id": "ea8d8f00",
   "metadata": {},
   "outputs": [
    {
     "name": "stdout",
     "output_type": "stream",
     "text": [
      "23\n",
      "11\n",
      "8.0\n",
      "2.6457513110645907\n",
      "0.5403023058681398\n",
      "0.9092974268256817\n",
      "5\n"
     ]
    }
   ],
   "source": [
    "from math import *\n",
    "\n",
    "print(floor(23.45))\n",
    "print(ceil(10.2))\n",
    "print(pow(2,3))\n",
    "print(sqrt(7))\n",
    "print(cos(1))\n",
    "print(sin(2))\n",
    "print(gcd(25,5))"
   ]
  },
  {
   "cell_type": "code",
   "execution_count": 69,
   "id": "29bc5112",
   "metadata": {},
   "outputs": [
    {
     "name": "stdout",
     "output_type": "stream",
     "text": [
      "['BPF', 'LOG4', 'NV_MAGICCONST', 'RECIP_BPF', 'Random', 'SG_MAGICCONST', 'SystemRandom', 'TWOPI', '_Sequence', '_Set', '__all__', '__builtins__', '__cached__', '__doc__', '__file__', '__loader__', '__name__', '__package__', '__spec__', '_accumulate', '_acos', '_bisect', '_ceil', '_cos', '_e', '_exp', '_inst', '_log', '_os', '_pi', '_random', '_repeat', '_sha512', '_sin', '_sqrt', '_test', '_test_generator', '_urandom', '_warn', 'betavariate', 'choice', 'choices', 'expovariate', 'gammavariate', 'gauss', 'getrandbits', 'getstate', 'lognormvariate', 'normalvariate', 'paretovariate', 'randint', 'random', 'randrange', 'sample', 'seed', 'setstate', 'shuffle', 'triangular', 'uniform', 'vonmisesvariate', 'weibullvariate']\n"
     ]
    }
   ],
   "source": [
    "import random\n",
    "print(dir(random))"
   ]
  },
  {
   "cell_type": "code",
   "execution_count": 28,
   "id": "2ad21643",
   "metadata": {},
   "outputs": [
    {
     "data": {
      "text/plain": [
       "0.5262879364220936"
      ]
     },
     "execution_count": 28,
     "metadata": {},
     "output_type": "execute_result"
    }
   ],
   "source": [
    "import random\n",
    "random.random() #arrang the numbers from 0 to 1"
   ]
  },
  {
   "cell_type": "code",
   "execution_count": 29,
   "id": "1105180d",
   "metadata": {},
   "outputs": [
    {
     "data": {
      "text/plain": [
       "3"
      ]
     },
     "execution_count": 29,
     "metadata": {},
     "output_type": "execute_result"
    }
   ],
   "source": [
    "random.randint(1,10)"
   ]
  },
  {
   "cell_type": "code",
   "execution_count": 30,
   "id": "2edc77ee",
   "metadata": {},
   "outputs": [
    {
     "data": {
      "text/plain": [
       "1907"
      ]
     },
     "execution_count": 30,
     "metadata": {},
     "output_type": "execute_result"
    }
   ],
   "source": [
    "random.randint(1000,2000)"
   ]
  },
  {
   "cell_type": "code",
   "execution_count": 70,
   "id": "85bfb6d3",
   "metadata": {},
   "outputs": [],
   "source": [
    "from random import *"
   ]
  },
  {
   "cell_type": "code",
   "execution_count": null,
   "id": "9f16fd4b",
   "metadata": {},
   "outputs": [],
   "source": []
  },
  {
   "cell_type": "code",
   "execution_count": 71,
   "id": "ac230a83",
   "metadata": {},
   "outputs": [
    {
     "name": "stdout",
     "output_type": "stream",
     "text": [
      "762\n"
     ]
    }
   ],
   "source": [
    "print(randint(111,999))"
   ]
  },
  {
   "cell_type": "code",
   "execution_count": 72,
   "id": "d99563c2",
   "metadata": {},
   "outputs": [
    {
     "data": {
      "text/plain": [
       "32"
      ]
     },
     "execution_count": 72,
     "metadata": {},
     "output_type": "execute_result"
    }
   ],
   "source": [
    "import random\n",
    "random.randrange(0,100)"
   ]
  },
  {
   "cell_type": "code",
   "execution_count": 73,
   "id": "4241301a",
   "metadata": {},
   "outputs": [
    {
     "data": {
      "text/plain": [
       "10"
      ]
     },
     "execution_count": 73,
     "metadata": {},
     "output_type": "execute_result"
    }
   ],
   "source": [
    "random.choice([10,20,30,40,50])"
   ]
  },
  {
   "cell_type": "code",
   "execution_count": 74,
   "id": "4be4a2bd",
   "metadata": {},
   "outputs": [
    {
     "name": "stdout",
     "output_type": "stream",
     "text": [
      "[3, 5, 6, 1, 4, 2]\n"
     ]
    }
   ],
   "source": [
    "n=[1,2,3,4,5,6]\n",
    "random.shuffle(n)\n",
    "print(n)"
   ]
  },
  {
   "cell_type": "code",
   "execution_count": 75,
   "id": "cbb49c03",
   "metadata": {},
   "outputs": [
    {
     "name": "stdout",
     "output_type": "stream",
     "text": [
      "['Calendar', 'EPOCH', 'FRIDAY', 'February', 'HTMLCalendar', 'IllegalMonthError', 'IllegalWeekdayError', 'January', 'LocaleHTMLCalendar', 'LocaleTextCalendar', 'MONDAY', 'SATURDAY', 'SUNDAY', 'THURSDAY', 'TUESDAY', 'TextCalendar', 'WEDNESDAY', '_EPOCH_ORD', '__all__', '__builtins__', '__cached__', '__doc__', '__file__', '__loader__', '__name__', '__package__', '__spec__', '_colwidth', '_locale', '_localized_day', '_localized_month', '_monthlen', '_nextmonth', '_prevmonth', '_spacing', 'c', 'calendar', 'datetime', 'day_abbr', 'day_name', 'different_locale', 'error', 'firstweekday', 'format', 'formatstring', 'isleap', 'leapdays', 'main', 'mdays', 'month', 'month_abbr', 'month_name', 'monthcalendar', 'monthrange', 'prcal', 'prmonth', 'prweek', 'repeat', 'setfirstweekday', 'sys', 'timegm', 'week', 'weekday', 'weekheader']\n"
     ]
    }
   ],
   "source": [
    "import calendar\n",
    "print(dir(calendar))"
   ]
  },
  {
   "cell_type": "code",
   "execution_count": 76,
   "id": "63adb96d",
   "metadata": {},
   "outputs": [
    {
     "name": "stdout",
     "output_type": "stream",
     "text": [
      "                                  2020\n",
      "\n",
      "      January                   February                   March\n",
      "Mo Tu We Th Fr Sa Su      Mo Tu We Th Fr Sa Su      Mo Tu We Th Fr Sa Su\n",
      "       1  2  3  4  5                      1  2                         1\n",
      " 6  7  8  9 10 11 12       3  4  5  6  7  8  9       2  3  4  5  6  7  8\n",
      "13 14 15 16 17 18 19      10 11 12 13 14 15 16       9 10 11 12 13 14 15\n",
      "20 21 22 23 24 25 26      17 18 19 20 21 22 23      16 17 18 19 20 21 22\n",
      "27 28 29 30 31            24 25 26 27 28 29         23 24 25 26 27 28 29\n",
      "                                                    30 31\n",
      "\n",
      "       April                      May                       June\n",
      "Mo Tu We Th Fr Sa Su      Mo Tu We Th Fr Sa Su      Mo Tu We Th Fr Sa Su\n",
      "       1  2  3  4  5                   1  2  3       1  2  3  4  5  6  7\n",
      " 6  7  8  9 10 11 12       4  5  6  7  8  9 10       8  9 10 11 12 13 14\n",
      "13 14 15 16 17 18 19      11 12 13 14 15 16 17      15 16 17 18 19 20 21\n",
      "20 21 22 23 24 25 26      18 19 20 21 22 23 24      22 23 24 25 26 27 28\n",
      "27 28 29 30               25 26 27 28 29 30 31      29 30\n",
      "\n",
      "        July                     August                  September\n",
      "Mo Tu We Th Fr Sa Su      Mo Tu We Th Fr Sa Su      Mo Tu We Th Fr Sa Su\n",
      "       1  2  3  4  5                      1  2          1  2  3  4  5  6\n",
      " 6  7  8  9 10 11 12       3  4  5  6  7  8  9       7  8  9 10 11 12 13\n",
      "13 14 15 16 17 18 19      10 11 12 13 14 15 16      14 15 16 17 18 19 20\n",
      "20 21 22 23 24 25 26      17 18 19 20 21 22 23      21 22 23 24 25 26 27\n",
      "27 28 29 30 31            24 25 26 27 28 29 30      28 29 30\n",
      "                          31\n",
      "\n",
      "      October                   November                  December\n",
      "Mo Tu We Th Fr Sa Su      Mo Tu We Th Fr Sa Su      Mo Tu We Th Fr Sa Su\n",
      "          1  2  3  4                         1          1  2  3  4  5  6\n",
      " 5  6  7  8  9 10 11       2  3  4  5  6  7  8       7  8  9 10 11 12 13\n",
      "12 13 14 15 16 17 18       9 10 11 12 13 14 15      14 15 16 17 18 19 20\n",
      "19 20 21 22 23 24 25      16 17 18 19 20 21 22      21 22 23 24 25 26 27\n",
      "26 27 28 29 30 31         23 24 25 26 27 28 29      28 29 30 31\n",
      "                          30\n",
      "\n"
     ]
    }
   ],
   "source": [
    "print(calendar.calendar(2020))"
   ]
  },
  {
   "cell_type": "code",
   "execution_count": null,
   "id": "b8ad0118",
   "metadata": {},
   "outputs": [],
   "source": []
  },
  {
   "cell_type": "code",
   "execution_count": null,
   "id": "21f98d63",
   "metadata": {},
   "outputs": [],
   "source": []
  },
  {
   "cell_type": "code",
   "execution_count": null,
   "id": "9f884346",
   "metadata": {},
   "outputs": [],
   "source": []
  },
  {
   "cell_type": "code",
   "execution_count": 17,
   "id": "82a883cc",
   "metadata": {},
   "outputs": [],
   "source": [
    "def unique(li):\n",
    "    li1=[]\n",
    "    for i in li:\n",
    "        if li.count(i)==1:\n",
    "            li1.append(i)\n",
    "    print(li1)"
   ]
  },
  {
   "cell_type": "code",
   "execution_count": 81,
   "id": "0a519a84",
   "metadata": {},
   "outputs": [
    {
     "name": "stdout",
     "output_type": "stream",
     "text": [
      "['12', '2', '3', '4']\n"
     ]
    }
   ],
   "source": [
    "s='12 2 3 4'\n",
    "print(s.split())"
   ]
  },
  {
   "cell_type": "code",
   "execution_count": 82,
   "id": "9631ab91",
   "metadata": {},
   "outputs": [
    {
     "name": "stdout",
     "output_type": "stream",
     "text": [
      "1 2 3 4 6 8 \n",
      "[1, 2, 3, 4, 6, 8]\n"
     ]
    }
   ],
   "source": [
    "li=list(map(int,input().split()))\n",
    "unique(li)"
   ]
  },
  {
   "cell_type": "code",
   "execution_count": 1,
   "id": "9ae8cc45",
   "metadata": {},
   "outputs": [],
   "source": [
    "import randomgen"
   ]
  },
  {
   "cell_type": "code",
   "execution_count": 4,
   "id": "9387f0ae",
   "metadata": {},
   "outputs": [],
   "source": [
    "from randomgen import randomgenerator"
   ]
  },
  {
   "cell_type": "code",
   "execution_count": 5,
   "id": "1514d19d",
   "metadata": {},
   "outputs": [
    {
     "name": "stdout",
     "output_type": "stream",
     "text": [
      "176 180 144 153 170 151 132 136 192 171 "
     ]
    }
   ],
   "source": [
    "randomgenerator(100,200,10)"
   ]
  },
  {
   "cell_type": "code",
   "execution_count": 7,
   "id": "83674dbb",
   "metadata": {},
   "outputs": [],
   "source": [
    "import calc\n"
   ]
  },
  {
   "cell_type": "code",
   "execution_count": 8,
   "id": "c096d193",
   "metadata": {},
   "outputs": [
    {
     "data": {
      "text/plain": [
       "['__builtins__',\n",
       " '__cached__',\n",
       " '__doc__',\n",
       " '__file__',\n",
       " '__loader__',\n",
       " '__name__',\n",
       " '__package__',\n",
       " '__spec__',\n",
       " 'add',\n",
       " 'div',\n",
       " 'mul',\n",
       " 'sub']"
      ]
     },
     "execution_count": 8,
     "metadata": {},
     "output_type": "execute_result"
    }
   ],
   "source": [
    "dir(calc)"
   ]
  },
  {
   "cell_type": "code",
   "execution_count": 9,
   "id": "c6024e97",
   "metadata": {},
   "outputs": [
    {
     "data": {
      "text/plain": [
       "65"
      ]
     },
     "execution_count": 9,
     "metadata": {},
     "output_type": "execute_result"
    }
   ],
   "source": [
    "calc.add(20,45)"
   ]
  },
  {
   "cell_type": "code",
   "execution_count": 10,
   "id": "36eb8281",
   "metadata": {},
   "outputs": [
    {
     "data": {
      "text/plain": [
       "30"
      ]
     },
     "execution_count": 10,
     "metadata": {},
     "output_type": "execute_result"
    }
   ],
   "source": [
    "calc.sub(50,20)"
   ]
  },
  {
   "cell_type": "code",
   "execution_count": 11,
   "id": "8b2572e9",
   "metadata": {},
   "outputs": [
    {
     "data": {
      "text/plain": [
       "14"
      ]
     },
     "execution_count": 11,
     "metadata": {},
     "output_type": "execute_result"
    }
   ],
   "source": [
    "calc.mul(2,7)"
   ]
  },
  {
   "cell_type": "code",
   "execution_count": 12,
   "id": "e9d70444",
   "metadata": {},
   "outputs": [
    {
     "data": {
      "text/plain": [
       "3.0"
      ]
     },
     "execution_count": 12,
     "metadata": {},
     "output_type": "execute_result"
    }
   ],
   "source": [
    "calc.div(6,2)"
   ]
  },
  {
   "cell_type": "code",
   "execution_count": 13,
   "id": "b7b3a028",
   "metadata": {},
   "outputs": [],
   "source": [
    "from calc import add"
   ]
  },
  {
   "cell_type": "code",
   "execution_count": 14,
   "id": "83f45cb4",
   "metadata": {},
   "outputs": [
    {
     "data": {
      "text/plain": [
       "50"
      ]
     },
     "execution_count": 14,
     "metadata": {},
     "output_type": "execute_result"
    }
   ],
   "source": [
    "add(20,30)"
   ]
  },
  {
   "cell_type": "code",
   "execution_count": 15,
   "id": "1a7b11ea",
   "metadata": {},
   "outputs": [],
   "source": [
    "from calc import *\n"
   ]
  },
  {
   "cell_type": "code",
   "execution_count": 16,
   "id": "719ac94b",
   "metadata": {},
   "outputs": [
    {
     "data": {
      "text/plain": [
       "10"
      ]
     },
     "execution_count": 16,
     "metadata": {},
     "output_type": "execute_result"
    }
   ],
   "source": [
    "sub(60,50)"
   ]
  },
  {
   "cell_type": "code",
   "execution_count": null,
   "id": "dfcb75fe",
   "metadata": {},
   "outputs": [],
   "source": []
  }
 ],
 "metadata": {
  "kernelspec": {
   "display_name": "Python 3",
   "language": "python",
   "name": "python3"
  },
  "language_info": {
   "codemirror_mode": {
    "name": "ipython",
    "version": 3
   },
   "file_extension": ".py",
   "mimetype": "text/x-python",
   "name": "python",
   "nbconvert_exporter": "python",
   "pygments_lexer": "ipython3",
   "version": "3.8.8"
  }
 },
 "nbformat": 4,
 "nbformat_minor": 5
}
